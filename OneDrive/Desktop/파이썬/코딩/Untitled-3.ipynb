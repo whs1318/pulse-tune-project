{
 "cells": [
  {
   "cell_type": "code",
   "execution_count": 2,
   "metadata": {},
   "outputs": [
    {
     "name": "stdout",
     "output_type": "stream",
     "text": [
      "'C:\\Users\\whs13\\OneDrive\\Desktop\\파이썬\\240317_test(2).xlsx' 파일에 새로운 시트로 데이터가 저장되었습니다.\n"
     ]
    }
   ],
   "source": [
    "import pandas as pd\n",
    "\n",
    "# 엑셀 파일 경로\n",
    "file_path = r'C:\\Users\\whs13\\OneDrive\\Desktop\\파이썬\\240317_test(2).xlsx'\n",
    "\n",
    "# 엑셀 파일 읽어오기\n",
    "df = pd.read_excel(file_path, header=None)\n",
    "\n",
    "# 문자열 값을 숫자로 변환하여 숫자 데이터만 남기기\n",
    "numeric_df = df.apply(pd.to_numeric, errors='coerce')\n",
    "\n",
    "# 특정 행부터 마지막 행까지의 평균값, 최댓값, 최솟값을 계산\n",
    "start_row = 1  # 첫 번째 행부터 시작\n",
    "end_row = numeric_df.shape[0] - 1  # 마지막 행 인덱스 가져오기\n",
    "mean_values = numeric_df.iloc[start_row:].mean()\n",
    "max_values = numeric_df.iloc[start_row:].max()\n",
    "min_values = numeric_df.iloc[start_row:].min()\n",
    "\n",
    "# 새로운 행으로 추가\n",
    "df.loc[end_row + 1] = mean_values\n",
    "df.loc[end_row + 2] = max_values\n",
    "df.loc[end_row + 3] = min_values\n",
    "\n",
    "# 사용자 입력 값을 받기\n",
    "threshold = float(input(\"몇 이상을 1로 잡을지 정해주세요: \"))\n",
    "\n",
    "# 평균값이 사용자 입력 값보다 크면 1, 그렇지 않으면 0을 할당\n",
    "df.loc[end_row + 4] = [1 if value > threshold else 0 for value in mean_values]\n",
    "\n",
    "# ExcelWriter 객체 생성\n",
    "with pd.ExcelWriter(file_path, engine='openpyxl', mode='a', if_sheet_exists='replace') as writer:\n",
    "    # 수정된 데이터프레임을 새로운 시트로 저장\n",
    "    df.to_excel(writer, sheet_name='새로운 시트', index=False, header=False)\n",
    "\n",
    "print(f\"'{file_path}' 파일에 새로운 시트로 데이터가 저장되었습니다.\")\n",
    "\n",
    "# 업데이트 테스트용"
   ]
  },
  {
   "cell_type": "code",
   "execution_count": null,
   "metadata": {},
   "outputs": [],
   "source": []
  }
 ],
 "metadata": {
  "kernelspec": {
   "display_name": "Python 3",
   "language": "python",
   "name": "python3"
  },
  "language_info": {
   "codemirror_mode": {
    "name": "ipython",
    "version": 3
   },
   "file_extension": ".py",
   "mimetype": "text/x-python",
   "name": "python",
   "nbconvert_exporter": "python",
   "pygments_lexer": "ipython3",
   "version": "3.12.1"
  }
 },
 "nbformat": 4,
 "nbformat_minor": 2
}
